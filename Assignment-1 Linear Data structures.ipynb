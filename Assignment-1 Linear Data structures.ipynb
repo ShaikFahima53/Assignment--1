{
 "cells": [
  {
   "cell_type": "code",
   "execution_count": null,
   "id": "47e931eb",
   "metadata": {},
   "outputs": [],
   "source": [
    "# Naive method to find a pair in a list with the given sum\n",
    "def findPair(nums, target):\n",
    " \n",
    "    # consider each element except the last\n",
    "    for i in range(len(nums) - 1):\n",
    " \n",
    "        # start from the i'th element until the last element\n",
    "        for j in range(i + 1, len(nums)):\n",
    " \n",
    "            # if the desired sum is found, print it\n",
    "            if nums[i] + nums[j] == target:\n",
    "                print('Pair found', (nums[i], nums[j]))\n",
    "                return\n",
    " \n",
    "    # No pair with the given sum exists in the list\n",
    "    print('Pair not found')\n",
    " \n",
    " \n",
    "if __name__ == '__main__':\n",
    " \n",
    "    nums = [8, 7, 2, 5, 3, 1]\n",
    "    target = 10\n",
    " \n",
    "    findPair(nums, target)\n",
    " "
   ]
  },
  {
   "cell_type": "code",
   "execution_count": 24,
   "id": "3bbbf9b0",
   "metadata": {},
   "outputs": [
    {
     "name": "stdout",
     "output_type": "stream",
     "text": [
      "\n",
      "Enter the array : 1 2 3 4 5 6 7 8 9 10\n",
      "give the sum:9\n",
      "pair: 1,8\n",
      "pair: 2,7\n",
      "pair: 3,6\n",
      "pair: 4,5\n"
     ]
    }
   ],
   "source": [
    "### 1\n",
    "def getPair():\n",
    "#     print('Enter the array:')\n",
    "    arr = list(map(int,input(\"\\nEnter the array : \").strip().split()))\n",
    "#     print(arr)\n",
    "    k = int(input('give the sum:'))\n",
    "    for i in range(len(arr)-1):\n",
    "#         print(arr[i])\n",
    "        for j in range(i+1, len(arr)):\n",
    "#             print(arr[i] + arr[j])\n",
    "            if arr[i] + arr[j] == k:\n",
    "                print(\"pair: {},{}\".format(arr[i], arr[j]))\n",
    "#                 return\n",
    "#     print('No Pair found')\n",
    "    \n",
    "# [1,2,3,4,5,6,7,8,9,10], 15\n",
    "getPair()"
   ]
  },
  {
   "cell_type": "code",
   "execution_count": 25,
   "id": "d8a2ceb2",
   "metadata": {},
   "outputs": [
    {
     "name": "stdout",
     "output_type": "stream",
     "text": [
      "\n",
      "Enter the array : 1 2 3 4 5 6 7 8 9 10\n"
     ]
    },
    {
     "data": {
      "text/plain": [
       "[10, 9, 8, 7, 6, 5, 4, 3, 2, 1]"
      ]
     },
     "execution_count": 25,
     "metadata": {},
     "output_type": "execute_result"
    }
   ],
   "source": [
    "# def reverseList(A, start, end):\n",
    "#     while start < end:\n",
    "#         A[start], A[end] = A[end], A[start]\n",
    "#         start += 1\n",
    "#         end -= 1\n",
    "        \n",
    "def listReversal():\n",
    "    lst = list(map(int,input(\"\\nEnter the array : \").strip().split()))\n",
    "    start = 0\n",
    "    end = len(lst)-1\n",
    "    while start < end:\n",
    "        lst[start], lst[end] = lst[end], lst[start]\n",
    "        start += 1\n",
    "        end -= 1\n",
    "    return lst\n",
    "listReversal()"
   ]
  },
  {
   "cell_type": "code",
   "execution_count": 26,
   "id": "ca83b505",
   "metadata": {},
   "outputs": [
    {
     "name": "stdout",
     "output_type": "stream",
     "text": [
      "give the string:greeksforgreeks\n",
      "First non-repeating character is f\n"
     ]
    }
   ],
   "source": [
    "# def FirstNonRepeat(s):\n",
    " \n",
    "#     for i in s:\n",
    " \n",
    "#         if (s.find(i, (s.find(i)+1))) == -1:\n",
    " \n",
    "#             print(\"First non-repeating character is\", i)\n",
    " \n",
    "#             break\n",
    " \n",
    "#     return\n",
    " \n",
    "# # __main__\n",
    " \n",
    " \n",
    "# s = 'geeksforgeeks'\n",
    " \n",
    "# FirstNonRepeat(s)\n",
    "\n",
    "\n",
    "def nonRepeat():\n",
    "    string = input('give the string:')\n",
    "    for i in string:\n",
    "        if (string.find(i, (string.find(i)+1))) == -1:\n",
    "            print(\"First non-repeating character is\", i)\n",
    "            break\n",
    "    return\n",
    "\n",
    "nonRepeat()"
   ]
  },
  {
   "cell_type": "code",
   "execution_count": 33,
   "id": "e92d8416",
   "metadata": {},
   "outputs": [
    {
     "name": "stdout",
     "output_type": "stream",
     "text": [
      "Enter the disks:3\n",
      "Move disk 1 from rod A to rod B\n",
      "Move disk 2 from rod A to rod C\n",
      "Move disk 1 from rod B to rod C\n",
      "Move disk 3 from rod A to rod B\n",
      "Move disk 1 from rod C to rod A\n",
      "Move disk 2 from rod C to rod B\n",
      "Move disk 1 from rod A to rod B\n"
     ]
    }
   ],
   "source": [
    "def hanoiTower(n, from_rod='A', to_rod='B', aux_rod='C'):\n",
    "    if n == 0:\n",
    "        return\n",
    "    hanoiTower(n-1, from_rod, aux_rod, to_rod)\n",
    "    print(\"Move disk\", n, \"from rod\", from_rod, \"to rod\", to_rod)\n",
    "    hanoiTower(n-1, aux_rod, to_rod, from_rod)\n",
    "    \n",
    "    \n",
    "n = int(input('Enter the disks:'))\n",
    "hanoiTower(n)\n",
    "\n",
    "\n",
    "\n"
   ]
  },
  {
   "cell_type": "code",
   "execution_count": 34,
   "id": "50f73fab",
   "metadata": {},
   "outputs": [
    {
     "name": "stdout",
     "output_type": "stream",
     "text": [
      "Enter the expression:\"AB+CD-\"\n",
      "Prefix :  \"+AB-CD\"\n"
     ]
    }
   ],
   "source": [
    "def operatorValidater(x):\n",
    " \n",
    "    if x in [\"+\",\"-\",\"/\",\"*\"]:\n",
    "        return True\n",
    " \n",
    "    return False\n",
    " \n",
    "\n",
    "def postToPre():\n",
    "    expression = input('Enter the expression:')\n",
    "    s = []\n",
    "    length = len(expression)\n",
    "\n",
    "    for i in range(length):\n",
    "        if (operatorValidater(expression[i])):\n",
    "            op1 = s[-1]\n",
    "            s.pop()\n",
    "            op2 = s[-1]\n",
    "            s.pop()\n",
    "            temp = expression[i] + op2 + op1\n",
    "            s.append(temp)\n",
    "\n",
    "        else:\n",
    "            s.append(expression[i])\n",
    " \n",
    "    ans = \"\"\n",
    "    for i in s:\n",
    "        ans += i\n",
    "    return ans\n",
    "  \n",
    "# post_exp = \"AB+CD-\"\n",
    "\n",
    "# Function call\n",
    "print(\"Prefix : \", postToPre())"
   ]
  },
  {
   "cell_type": "code",
   "execution_count": 38,
   "id": "c4667ac4",
   "metadata": {},
   "outputs": [
    {
     "name": "stdout",
     "output_type": "stream",
     "text": [
      "enter the expression:*-A/BC-/AKL\n",
      "((A-(B/C))*((A/K)-L))\n"
     ]
    }
   ],
   "source": [
    "def prefixToInfix():\n",
    "    prefix = input('enter the expression:')\n",
    "    stack = []\n",
    "    i = len(prefix) - 1\n",
    "    while i >= 0:\n",
    "        if not operatorValidater(prefix[i]):\n",
    "            stack.append(prefix[i])\n",
    "            i -= 1\n",
    "        else:\n",
    "            str = \"(\" + stack.pop() + prefix[i] + stack.pop() + \")\"\n",
    "            stack.append(str)\n",
    "            i -= 1\n",
    "    return stack.pop()\n",
    " \n",
    "def operatorValidater(x):\n",
    "    if x in [\"+\",\"-\",\"/\",\"*\", \"^\", \"(\", \")\"]:\n",
    "        return True\n",
    "    return False\n",
    " \n",
    "\n",
    "# str = \"*-A/BC-/AKL\"\n",
    "print(prefixToInfix())"
   ]
  },
  {
   "cell_type": "code",
   "execution_count": 40,
   "id": "bb7e5695",
   "metadata": {},
   "outputs": [
    {
     "name": "stdout",
     "output_type": "stream",
     "text": [
      "enter the code:{()}[]\n",
      "Balanced\n"
     ]
    }
   ],
   "source": [
    "def areBracketsBalanced():\n",
    "    expr = input('enter the code:')\n",
    "    stack = []\n",
    "\n",
    "    for char in expr:\n",
    "        if char in [\"(\", \"{\", \"[\"]:\n",
    "\n",
    "            stack.append(char)\n",
    "        else:\n",
    "\n",
    "            if not stack:\n",
    "                return False\n",
    "            current_char = stack.pop()\n",
    "            if current_char == '(':\n",
    "                if char != \")\":\n",
    "                    return False\n",
    "            if current_char == '{':\n",
    "                if char != \"}\":\n",
    "                    return False\n",
    "            if current_char == '[':\n",
    "                if char != \"]\":\n",
    "                    return False\n",
    "\n",
    "    if stack:\n",
    "        return False\n",
    "    return True\n",
    "\n",
    "\n",
    "\n",
    "if areBracketsBalanced():\n",
    "    print(\"Balanced\")\n",
    "else:\n",
    "    print(\"Not Balanced\")"
   ]
  },
  {
   "cell_type": "code",
   "execution_count": 42,
   "id": "bb0b2a99",
   "metadata": {},
   "outputs": [
    {
     "name": "stdout",
     "output_type": "stream",
     "text": [
      "enter the text1:AACD\n",
      "enter the text2:ACDA\n",
      "Strings are rotations of each other\n"
     ]
    }
   ],
   "source": [
    "def areRotations():\n",
    "    string1 = input('enter the text1:')\n",
    "    string2 = input('enter the text2:')\n",
    "    size1 = len(string1)\n",
    "    size2 = len(string2)\n",
    "    temp = ''\n",
    "\n",
    "    if size1 != size2:\n",
    "        return 0\n",
    " \n",
    "    temp = string1 + string1\n",
    " \n",
    "    if (temp.count(string2) > 0):\n",
    "        return 1\n",
    "    else:\n",
    "        return 0\n",
    " \n",
    " \n",
    "# string1 = \"AACD\"\n",
    "# string2 = \"ACDA\"\n",
    "\n",
    "\n",
    "if areRotations():\n",
    "    print(\"Strings are rotations of each other\")\n",
    "else:\n",
    "    print(\"Strings are not rotations of each other\")\n"
   ]
  },
  {
   "cell_type": "code",
   "execution_count": null,
   "id": "22c87763",
   "metadata": {},
   "outputs": [],
   "source": []
  }
 ],
 "metadata": {
  "kernelspec": {
   "display_name": "Python (MMM)",
   "language": "python",
   "name": "auto_mmm"
  },
  "language_info": {
   "codemirror_mode": {
    "name": "ipython",
    "version": 3
   },
   "file_extension": ".py",
   "mimetype": "text/x-python",
   "name": "python",
   "nbconvert_exporter": "python",
   "pygments_lexer": "ipython3",
   "version": "3.8.11"
  }
 },
 "nbformat": 4,
 "nbformat_minor": 5
}
